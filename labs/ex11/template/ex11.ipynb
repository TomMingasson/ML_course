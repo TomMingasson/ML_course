{
 "cells": [
  {
   "cell_type": "code",
   "execution_count": 2,
   "metadata": {
    "collapsed": true
   },
   "outputs": [],
   "source": [
    "# Useful starting lines\n",
    "%matplotlib inline\n",
    "import numpy as np\n",
    "import matplotlib.pyplot as plt\n",
    "import torch\n",
    "import torch.nn as nn\n",
    "from torch.autograd import Variable\n",
    "%load_ext autoreload\n",
    "%autoreload 2"
   ]
  },
  {
   "cell_type": "code",
   "execution_count": 3,
   "metadata": {
    "collapsed": true
   },
   "outputs": [],
   "source": [
    "# Defining a toy dataset\n",
    "x_train = np.array([[3.3], [4.4], [5.5], [6.71], [6.93], [4.168], \n",
    "                    [9.779], [6.182], [7.59], [2.167], [7.042], \n",
    "                    [10.791], [5.313], [7.997], [3.1]], dtype=np.float32)\n",
    "\n",
    "y_train = np.array([[1.7], [2.76], [2.09], [3.19], [1.694], [1.573], \n",
    "                    [3.366], [2.596], [2.53], [1.221], [2.827], \n",
    "                        [3.465], [1.65], [2.904], [1.3]], dtype=np.float32)"
   ]
  },
  {
   "cell_type": "code",
   "execution_count": 4,
   "metadata": {},
   "outputs": [
    {
     "name": "stdout",
     "output_type": "stream",
     "text": [
      "(15, 1)\n",
      "(15, 1)\n"
     ]
    }
   ],
   "source": [
    "print(x_train.shape)\n",
    "print(y_train.shape)"
   ]
  },
  {
   "cell_type": "markdown",
   "metadata": {},
   "source": [
    "## Linear regression"
   ]
  },
  {
   "cell_type": "code",
   "execution_count": 7,
   "metadata": {},
   "outputs": [
    {
     "name": "stdout",
     "output_type": "stream",
     "text": [
      "Testing model: an input of [ 0.  1.  2.] gives a prediction:\n",
      " Variable containing:\n",
      " 0\n",
      " 0\n",
      " 0\n",
      "[torch.FloatTensor of size 3]\n",
      "\n"
     ]
    }
   ],
   "source": [
    "dtype = torch.FloatTensor\n",
    "\n",
    "class MyLinearRegression:\n",
    "    \n",
    "    def __init__(self):\n",
    "        # TODO: Define the parameters of the model (weights and biases)\n",
    "        self.w = Variable(torch.Tensor([0]), requires_grad = True)\n",
    "        self.b = Variable(torch.Tensor([0]), requires_grad = True)\n",
    "    \n",
    "    def forward(self, x):\n",
    "        # TODO: implement forward computation - compute predictions based on the inputs\n",
    "        return self.w*x + self.b\n",
    "        \n",
    "    def parameters(self):\n",
    "        # TODO: this function should return a list of parameters of the model\n",
    "        return [self.w, self.b]\n",
    "    \n",
    "    def __call__(self, x):\n",
    "        # Convenience function\n",
    "        return self.forward(x)\n",
    "    \n",
    "\n",
    "def mselossfunc(pred, y):\n",
    "    # TODO: implement the MSE loss function\n",
    "    return (pred-y).pow(2).mean()\n",
    "\n",
    "model = MyLinearRegression() \n",
    "numpy_inputs = np.asarray([0.0, 1.0, 2.0], dtype = np.float32)\n",
    "torch_inputs = Variable(torch.from_numpy(numpy_inputs))\n",
    "torch_outputs = model(torch_inputs)\n",
    "print(\"Testing model: an input of %s gives a prediction:\\n %s\" % (numpy_inputs, torch_outputs))"
   ]
  },
  {
   "cell_type": "code",
   "execution_count": 11,
   "metadata": {
    "collapsed": true
   },
   "outputs": [],
   "source": [
    "def train(features, labels, model, lossfunc, optimizer, num_epoch):\n",
    "\n",
    "    for epoch in range(num_epoch):\n",
    "        \n",
    "        # TODO: Step 1 - create torch variables corresponding to features and labels\n",
    "        inputs = Variable(torch.from_numpy(features))\n",
    "        targets = Variable(torch.from_numpy(labels))\n",
    "\n",
    "        # TODO: Step 2 - compute model predictions and loss\n",
    "        outputs = model(inputs)\n",
    "        loss = lossfunc(outputs, targets)\n",
    "        \n",
    "        # TODO: Step 3 - do a backward pass and a gradient update step\n",
    "        optimizer.zero_grad() # Clears the gradients of all optimized Variable s\n",
    "        loss.backward() # compute the gradients\n",
    "        optimizer.step() # updates the parameters\n",
    "        \n",
    "        if epoch % 10 == 0:\n",
    "            print ('Epoch [%d/%d], Loss: %.4f' \n",
    "                   %(epoch+1, num_epoch, loss.data[0]))\n",
    "        \n",
    "        \n",
    "def visualize(x_train, y_train, model):\n",
    "    # A convenience function for visualizing predictions given by the model\n",
    "\n",
    "    predicted = model(Variable(torch.from_numpy(x_train))).data.numpy()\n",
    "    order = np.argsort(x_train, axis = 0)\n",
    "    plt.plot(x_train[order].flatten(), y_train[order].flatten(), 'ro', label='Original data')\n",
    "    plt.plot(x_train[order].flatten(), predicted[order].flatten(), label='Fitted line')\n",
    "    plt.legend()\n",
    "    plt.show()"
   ]
  },
  {
   "cell_type": "code",
   "execution_count": 12,
   "metadata": {},
   "outputs": [
    {
     "name": "stdout",
     "output_type": "stream",
     "text": [
      "Epoch [1/50], Loss: 5.9467\n",
      "Epoch [11/50], Loss: 1.1699\n",
      "Epoch [21/50], Loss: 0.3857\n",
      "Epoch [31/50], Loss: 0.2567\n",
      "Epoch [41/50], Loss: 0.2352\n"
     ]
    },
    {
     "data": {
      "image/png": "[encoded data removed]",
      "text/plain": [
       "<matplotlib.figure.Figure at 0x7e4967b748>"
      ]
     },
     "metadata": {},
     "output_type": "display_data"
    }
   ],
   "source": [
    "# Training and visualizing predictions made by linear regression model\n",
    "optimizer = torch.optim.SGD(model.parameters(), lr=1e-3)\n",
    "\n",
    "train(features = x_train, labels = y_train, model = model, lossfunc = mselossfunc, optimizer = optimizer, num_epoch = 50)\n",
    "visualize(x_train, y_train, model)"
   ]
  },
  {
   "cell_type": "markdown",
   "metadata": {},
   "source": [
    "## Linear Regression (using nn package)"
   ]
  },
  {
   "cell_type": "code",
   "execution_count": 16,
   "metadata": {},
   "outputs": [
    {
     "name": "stdout",
     "output_type": "stream",
     "text": [
      "Epoch [1/100], Loss: 10.8886\n",
      "Epoch [11/100], Loss: 1.9693\n",
      "Epoch [21/100], Loss: 0.5052\n",
      "Epoch [31/100], Loss: 0.2648\n",
      "Epoch [41/100], Loss: 0.2251\n",
      "Epoch [51/100], Loss: 0.2184\n",
      "Epoch [61/100], Loss: 0.2171\n",
      "Epoch [71/100], Loss: 0.2166\n",
      "Epoch [81/100], Loss: 0.2164\n",
      "Epoch [91/100], Loss: 0.2161\n"
     ]
    },
    {
     "data": {
      "image/png": "[encoded data removed]",
      "text/plain": [
       "<matplotlib.figure.Figure at 0x7e4a0f7358>"
      ]
     },
     "metadata": {},
     "output_type": "display_data"
    }
   ],
   "source": [
    "class NNLinearRegression(nn.Module):\n",
    "    def __init__(self):\n",
    "        super(NNLinearRegression, self).__init__()\n",
    "        # TODO: Define the parameters of the model (linear nn layer)\n",
    "        self.linear = nn.Linear(1,1)\n",
    "    \n",
    "    def forward(self, x):\n",
    "        # TODO: implement forward computation\n",
    "        return self.linear(x)\n",
    "    \n",
    "# Training and visualizing predictions made by linear regression model (nn package)\n",
    "# TODO: use loss function from nn package\n",
    "lossfunc = nn.MSELoss()\n",
    "\n",
    "model = NNLinearRegression()\n",
    "\n",
    "optimizer = torch.optim.SGD(model.parameters(), lr=1e-3)\n",
    "\n",
    "train(features = x_train,\n",
    "      labels = y_train,\n",
    "      model = model,\n",
    "      lossfunc = lossfunc,\n",
    "      optimizer = optimizer,\n",
    "      num_epoch = 100)\n",
    "visualize(x_train, y_train, model)"
   ]
  },
  {
   "cell_type": "markdown",
   "metadata": {},
   "source": [
    "## MLP"
   ]
  },
  {
   "cell_type": "code",
   "execution_count": 24,
   "metadata": {},
   "outputs": [
    {
     "name": "stdout",
     "output_type": "stream",
     "text": [
      "Epoch [1/300], Loss: 8.1963\n",
      "Epoch [11/300], Loss: 0.5415\n",
      "Epoch [21/300], Loss: 0.9146\n",
      "Epoch [31/300], Loss: 0.5944\n",
      "Epoch [41/300], Loss: 0.5233\n",
      "Epoch [51/300], Loss: 0.4633\n",
      "Epoch [61/300], Loss: 0.3453\n",
      "Epoch [71/300], Loss: 0.3024\n",
      "Epoch [81/300], Loss: 0.2491\n",
      "Epoch [91/300], Loss: 0.2213\n",
      "Epoch [101/300], Loss: 0.2047\n",
      "Epoch [111/300], Loss: 0.1952\n",
      "Epoch [121/300], Loss: 0.1901\n",
      "Epoch [131/300], Loss: 0.1872\n",
      "Epoch [141/300], Loss: 0.1856\n",
      "Epoch [151/300], Loss: 0.1845\n",
      "Epoch [161/300], Loss: 0.1836\n",
      "Epoch [171/300], Loss: 0.1829\n",
      "Epoch [181/300], Loss: 0.1822\n",
      "Epoch [191/300], Loss: 0.1815\n",
      "Epoch [201/300], Loss: 0.1809\n",
      "Epoch [211/300], Loss: 0.1802\n",
      "Epoch [221/300], Loss: 0.1795\n",
      "Epoch [231/300], Loss: 0.1789\n",
      "Epoch [241/300], Loss: 0.1782\n",
      "Epoch [251/300], Loss: 0.1776\n",
      "Epoch [261/300], Loss: 0.1769\n",
      "Epoch [271/300], Loss: 0.1763\n",
      "Epoch [281/300], Loss: 0.1756\n",
      "Epoch [291/300], Loss: 0.1750\n"
     ]
    },
    {
     "data": {
      "image/png": "[encoded data removed]",
      "text/plain": [
       "<matplotlib.figure.Figure at 0x7e4a2d59b0>"
      ]
     },
     "metadata": {},
     "output_type": "display_data"
    }
   ],
   "source": [
    "class MLP(nn.Module):\n",
    "    def __init__(self, hidden_size):\n",
    "        super(MLP, self).__init__()\n",
    "        self.fc1 = nn.Linear(1,hidden_size)\n",
    "        self.relu = nn.Sigmoid()\n",
    "        self.fc2 = nn.Linear(hidden_size, 1)\n",
    "    \n",
    "    def forward(self, x):\n",
    "        return self.fc2(self.relu(self.fc1(x)))\n",
    "    \n",
    "# TODO: Play with learning rate, hidden size, and optimizer type for multi-layered perceptron\n",
    "hidden_size = 2\n",
    "learning_rate = 1e-1\n",
    "\n",
    "\n",
    "model = MLP(hidden_size = hidden_size)\n",
    "\n",
    "optimizer = torch.optim.Adam(model.parameters(), lr = learning_rate)\n",
    "\n",
    "train(features = x_train,\n",
    "      labels = y_train,\n",
    "      model = model,\n",
    "      lossfunc = lossfunc,\n",
    "      optimizer = optimizer,\n",
    "      num_epoch = 300)\n",
    "visualize(x_train, y_train, model)"
   ]
  },
  {
   "cell_type": "code",
   "execution_count": null,
   "metadata": {
    "collapsed": true
   },
   "outputs": [],
   "source": []
  }
 ],
 "metadata": {
  "kernelspec": {
   "display_name": "Python 3",
   "language": "python",
   "name": "python3"
  },
  "language_info": {
   "codemirror_mode": {
    "name": "ipython",
    "version": 3
   },
   "file_extension": ".py",
   "mimetype": "text/x-python",
   "name": "python",
   "nbconvert_exporter": "python",
   "pygments_lexer": "ipython3",
   "version": "3.6.1"
  }
 },
 "nbformat": 4,
 "nbformat_minor": 2
}
