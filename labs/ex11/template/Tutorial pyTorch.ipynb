{
 "cells": [
  {
   "cell_type": "markdown",
   "metadata": {},
   "source": [
    "# Tutorial\n",
    "## http://pytorch.org/tutorials/beginner/blitz"
   ]
  },
  {
   "cell_type": "markdown",
   "metadata": {},
   "source": [
    "# Basics"
   ]
  },
  {
   "cell_type": "code",
   "execution_count": 37,
   "metadata": {
    "collapsed": true
   },
   "outputs": [],
   "source": [
    "from __future__ import print_function\n",
    "import torch\n",
    "import numpy as np"
   ]
  },
  {
   "cell_type": "code",
   "execution_count": 29,
   "metadata": {},
   "outputs": [
    {
     "name": "stdout",
     "output_type": "stream",
     "text": [
      "\n",
      "-2.0739e+12  2.1019e-44 -2.0739e+12  2.1019e-44\n",
      " 1.4013e-45  0.0000e+00 -3.4513e+14  2.1019e-44\n",
      " 1.1210e-44  0.0000e+00  0.0000e+00  1.4013e-45\n",
      "[torch.FloatTensor of size 3x4]\n",
      "\n",
      "\n",
      " 0.4642  0.9912  0.8135  0.1485\n",
      " 0.2125  0.8108  0.4626  0.0979\n",
      " 0.0280  0.0416  0.4278  0.3397\n",
      "[torch.FloatTensor of size 3x4]\n",
      "\n",
      "torch.Size([3, 4])\n",
      "\n",
      "-2.0739e+12  2.1019e-44 -2.0739e+12  2.1019e-44\n",
      " 1.4013e-45  0.0000e+00 -3.4513e+14  2.1019e-44\n",
      " 1.1210e-44  0.0000e+00  0.0000e+00  1.4013e-45\n",
      "[torch.FloatTensor of size 3x4]\n",
      "\n",
      "\n",
      "-2.0739e+12  9.9116e-01 -2.0739e+12  1.4848e-01\n",
      " 2.1252e-01  8.1082e-01 -3.4513e+14  9.7948e-02\n",
      " 2.8039e-02  4.1633e-02  4.2776e-01  3.3969e-01\n",
      "[torch.FloatTensor of size 3x4]\n",
      "\n",
      "\n",
      "-2.0739e+12  9.9116e-01 -2.0739e+12  1.4848e-01\n",
      " 2.1252e-01  8.1082e-01 -3.4513e+14  9.7948e-02\n",
      " 2.8039e-02  4.1633e-02  4.2776e-01  3.3969e-01\n",
      "[torch.FloatTensor of size 3x4]\n",
      "\n",
      "\n",
      "-2.0739e+12  9.9116e-01 -2.0739e+12  1.4848e-01\n",
      " 2.1252e-01  8.1082e-01 -3.4513e+14  9.7948e-02\n",
      " 2.8039e-02  4.1633e-02  4.2776e-01  3.3969e-01\n",
      "[torch.FloatTensor of size 3x4]\n",
      "\n",
      "\n",
      "-2.0739e+12  9.9116e-01 -2.0739e+12  1.4848e-01\n",
      " 2.1252e-01  8.1082e-01 -3.4513e+14  9.7948e-02\n",
      " 2.8039e-02  4.1633e-02  4.2776e-01  3.3969e-01\n",
      "[torch.FloatTensor of size 3x4]\n",
      "\n"
     ]
    }
   ],
   "source": [
    "# Tensor\n",
    "x = torch.Tensor(3,4)\n",
    "print(x)\n",
    "\n",
    "# Random Tensor\n",
    "x = torch.rand(3,4)\n",
    "print(x)\n",
    "print(x.size())\n",
    "\n",
    "# Add Tensors\n",
    "y = torch.Tensor(3,4)\n",
    "print(y)\n",
    "print(y+x)\n",
    "print(torch.add(x,y))\n",
    "sum_ = torch.Tensor(x.size())\n",
    "torch.add(x,y,out=sum_)\n",
    "print(sum_)\n",
    "y.add_(x) # any mehods with the post-fixed '_' like 'x.method_()' CHANGE x it self\n",
    "print(y)"
   ]
  },
  {
   "cell_type": "code",
   "execution_count": 31,
   "metadata": {},
   "outputs": [
    {
     "name": "stdout",
     "output_type": "stream",
     "text": [
      "\n",
      " 3\n",
      " 3\n",
      "[torch.FloatTensor of size 2]\n",
      "\n"
     ]
    }
   ],
   "source": [
    "x = torch.Tensor(2,3)+3\n",
    "print(x[:,2])"
   ]
  },
  {
   "cell_type": "code",
   "execution_count": 36,
   "metadata": {},
   "outputs": [
    {
     "name": "stdout",
     "output_type": "stream",
     "text": [
      "\n",
      " 1\n",
      " 1\n",
      " 1\n",
      " 1\n",
      " 1\n",
      "[torch.FloatTensor of size 5]\n",
      "\n",
      "[ 1.  1.  1.  1.  1.]\n",
      "\n",
      " 2\n",
      " 2\n",
      " 2\n",
      " 2\n",
      " 2\n",
      "[torch.FloatTensor of size 5]\n",
      "\n",
      "[ 2.  2.  2.  2.  2.]\n"
     ]
    }
   ],
   "source": [
    "# torch Tensor to numpy ndarray\n",
    "x = torch.ones(5)\n",
    "print(x)\n",
    "y = x.numpy()\n",
    "print(y)\n",
    "\n",
    "x.add_(1)\n",
    "print(x)\n",
    "print(y)"
   ]
  },
  {
   "cell_type": "code",
   "execution_count": 42,
   "metadata": {},
   "outputs": [
    {
     "name": "stdout",
     "output_type": "stream",
     "text": [
      "[ 1.  1.  1.] \n",
      " 1\n",
      " 1\n",
      " 1\n",
      "[torch.DoubleTensor of size 3]\n",
      "\n",
      "[ 3.  3.  3.] \n",
      " 3\n",
      " 3\n",
      " 3\n",
      "[torch.DoubleTensor of size 3]\n",
      "\n"
     ]
    }
   ],
   "source": [
    "# Numpy to torch\n",
    "a = np.ones(3)\n",
    "b = torch.from_numpy(a)\n",
    "print(a, b)\n",
    "\n",
    "b.add_(2)\n",
    "print(a, b)"
   ]
  },
  {
   "cell_type": "code",
   "execution_count": 43,
   "metadata": {
    "collapsed": true
   },
   "outputs": [],
   "source": [
    "# Conda\n",
    "if torch.cuda.is_available():\n",
    "    x = x.cuda()\n",
    "    y = y.cuda()\n",
    "    x + y"
   ]
  },
  {
   "cell_type": "markdown",
   "metadata": {},
   "source": [
    "# Autograd"
   ]
  },
  {
   "cell_type": "code",
   "execution_count": 46,
   "metadata": {
    "collapsed": true
   },
   "outputs": [],
   "source": [
    "# autograd.Variable contains: data, grad, creator\n",
    "import torch\n",
    "from torch.autograd import Variable"
   ]
  },
  {
   "cell_type": "code",
   "execution_count": 66,
   "metadata": {},
   "outputs": [
    {
     "name": "stdout",
     "output_type": "stream",
     "text": [
      "Variable containing:\n",
      " 1  1\n",
      " 1  1\n",
      "[torch.FloatTensor of size 2x2]\n",
      "\n",
      "None\n",
      "Variable containing:\n",
      " 3  3\n",
      " 3  3\n",
      "[torch.FloatTensor of size 2x2]\n",
      "\n",
      "Variable containing:\n",
      " 27\n",
      "[torch.FloatTensor of size 1]\n",
      "\n"
     ]
    }
   ],
   "source": [
    "x = Variable(torch.ones(2,2), requires_grad = True)\n",
    "print(x)\n",
    "print(x.grad)\n",
    "y = x + 2\n",
    "print(y)\n",
    "\n",
    "z = y*y*3\n",
    "out = z.mean()\n",
    "print(out)"
   ]
  },
  {
   "cell_type": "code",
   "execution_count": 67,
   "metadata": {},
   "outputs": [
    {
     "name": "stdout",
     "output_type": "stream",
     "text": [
      "None\n"
     ]
    }
   ],
   "source": [
    "print(out.backward())"
   ]
  },
  {
   "cell_type": "code",
   "execution_count": 68,
   "metadata": {},
   "outputs": [
    {
     "name": "stdout",
     "output_type": "stream",
     "text": [
      "Variable containing:\n",
      " 4.5000  4.5000\n",
      " 4.5000  4.5000\n",
      "[torch.FloatTensor of size 2x2]\n",
      "\n",
      "None\n",
      "None\n",
      "None\n"
     ]
    }
   ],
   "source": [
    "print(x.grad)\n",
    "print(y.grad)\n",
    "print(z.grad)\n",
    "print(out.grad)"
   ]
  },
  {
   "cell_type": "code",
   "execution_count": 82,
   "metadata": {},
   "outputs": [
    {
     "name": "stdout",
     "output_type": "stream",
     "text": [
      "y.backward():  None\n",
      "x.grad:  Variable containing:\n",
      " 1\n",
      " 1\n",
      " 1\n",
      "[torch.FloatTensor of size 3]\n",
      "\n"
     ]
    }
   ],
   "source": [
    "x = Variable(torch.ones(3), requires_grad = True)\n",
    "y = 3*x.mean() # y is a SCALAR\n",
    "\n",
    "print('y.backward(): ',y.backward())\n",
    "print('x.grad: ', x.grad)"
   ]
  },
  {
   "cell_type": "code",
   "execution_count": 118,
   "metadata": {},
   "outputs": [
    {
     "name": "stdout",
     "output_type": "stream",
     "text": [
      "x:  Variable containing:\n",
      " 1\n",
      " 1\n",
      " 1\n",
      "[torch.FloatTensor of size 3]\n",
      "\n",
      "y:  Variable containing:\n",
      " 2\n",
      " 2\n",
      " 2\n",
      "[torch.FloatTensor of size 3]\n",
      "\n",
      "x.grad:  Variable containing:\n",
      " 20\n",
      " 20\n",
      " 20\n",
      "[torch.FloatTensor of size 3]\n",
      "\n"
     ]
    }
   ],
   "source": [
    "x = Variable(torch.ones(3), requires_grad = True)\n",
    "y = 2*x \n",
    "\n",
    "print('x: ', x)\n",
    "print('y: ', y)\n",
    "\n",
    "# back propagation\n",
    "y.backward(torch.ones(3)*10)\n",
    "\n",
    "print('x.grad: ', x.grad)"
   ]
  },
  {
   "cell_type": "code",
   "execution_count": 119,
   "metadata": {},
   "outputs": [
    {
     "name": "stdout",
     "output_type": "stream",
     "text": [
      "Variable containing:\n",
      "-356.7902\n",
      " 946.8857\n",
      " 279.5542\n",
      "[torch.FloatTensor of size 3]\n",
      "\n"
     ]
    }
   ],
   "source": [
    "x = torch.randn(3)\n",
    "x = Variable(x, requires_grad=True)\n",
    "\n",
    "y = x * 2\n",
    "while y.data.norm() < 1000:\n",
    "    y = y * 2\n",
    "\n",
    "print(y)"
   ]
  },
  {
   "cell_type": "code",
   "execution_count": 120,
   "metadata": {},
   "outputs": [
    {
     "name": "stdout",
     "output_type": "stream",
     "text": [
      "Variable containing:\n",
      "  51.2000\n",
      " 512.0000\n",
      "   0.0512\n",
      "[torch.FloatTensor of size 3]\n",
      "\n"
     ]
    }
   ],
   "source": [
    "gradients = torch.FloatTensor([0.1, 1.0, 0.0001])\n",
    "y.backward(gradients)\n",
    "\n",
    "print(x.grad)"
   ]
  },
  {
   "cell_type": "code",
   "execution_count": null,
   "metadata": {
    "collapsed": true
   },
   "outputs": [],
   "source": []
  }
 ],
 "metadata": {
  "kernelspec": {
   "display_name": "Python 3",
   "language": "python",
   "name": "python3"
  },
  "language_info": {
   "codemirror_mode": {
    "name": "ipython",
    "version": 3
   },
   "file_extension": ".py",
   "mimetype": "text/x-python",
   "name": "python",
   "nbconvert_exporter": "python",
   "pygments_lexer": "ipython3",
   "version": "3.6.1"
  }
 },
 "nbformat": 4,
 "nbformat_minor": 2
}
