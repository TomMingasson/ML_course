{
 "cells": [
  {
   "cell_type": "code",
   "execution_count": 1,
   "metadata": {
    "collapsed": true
   },
   "outputs": [],
   "source": [
    "# Useful starting lines\n",
    "%matplotlib inline\n",
    "\n",
    "import numpy as np\n",
    "import scipy\n",
    "import scipy.io\n",
    "import scipy.sparse as sp\n",
    "import matplotlib.pyplot as plt\n",
    "%load_ext autoreload\n",
    "%autoreload 2"
   ]
  },
  {
   "cell_type": "markdown",
   "metadata": {},
   "source": [
    "## Load the Data\n",
    "Note that `ratings` is a sparse matrix that in the shape of (num_items, num_users)"
   ]
  },
  {
   "cell_type": "code",
   "execution_count": 2,
   "metadata": {},
   "outputs": [
    {
     "name": "stdout",
     "output_type": "stream",
     "text": [
      "number of items: 1682, number of users: 943\n"
     ]
    }
   ],
   "source": [
    "from helpers import load_data, preprocess_data\n",
    "\n",
    "path_dataset = \"movielens100k.csv\"\n",
    "ratings = load_data(path_dataset)"
   ]
  },
  {
   "cell_type": "code",
   "execution_count": 3,
   "metadata": {},
   "outputs": [
    {
     "name": "stdout",
     "output_type": "stream",
     "text": [
      "<class 'numpy.ndarray'>\n",
      "[1, 2, 3, 1, 1, 1, 1, 1, 2, 1, 2]\n"
     ]
    }
   ],
   "source": [
    "a = np.array([[1,2,3,1,1,1,1],[1,2],[1,2]])\n",
    "print(type(a))\n",
    "b = []\n",
    "for x in a: b = b + x\n",
    "print(b)"
   ]
  },
  {
   "cell_type": "code",
   "execution_count": 4,
   "metadata": {},
   "outputs": [
    {
     "name": "stdout",
     "output_type": "stream",
     "text": [
      "(1682, 943)\n",
      "<class 'scipy.sparse.lil.lil_matrix'>\n",
      "<class 'numpy.ndarray'>\n",
      "(1682,)\n",
      "{1.0, 2.0, 3.0, 4.0, 5.0}\n"
     ]
    }
   ],
   "source": [
    "print(ratings.shape)\n",
    "print(type(ratings))\n",
    "print(type(ratings.data))\n",
    "print(ratings.data.shape)\n",
    "ratings_all = []\n",
    "for x in ratings.data: ratings_all = ratings_all + x\n",
    "print(set(ratings_all))"
   ]
  },
  {
   "cell_type": "markdown",
   "metadata": {},
   "source": [
    "### Plot the number of ratings per movie and user"
   ]
  },
  {
   "cell_type": "code",
   "execution_count": 5,
   "metadata": {
    "scrolled": true
   },
   "outputs": [
    {
     "data": {
      "image/png": "[encoded data removed]",
      "text/plain": [
       "<matplotlib.figure.Figure at 0x8d8ffff550>"
      ]
     },
     "metadata": {},
     "output_type": "display_data"
    },
    {
     "name": "stdout",
     "output_type": "stream",
     "text": [
      "min # of items per user = 20, min # of users per item = 1.\n"
     ]
    }
   ],
   "source": [
    "from plots import plot_raw_data\n",
    "\n",
    "num_items_per_user, num_users_per_item = plot_raw_data(ratings)\n",
    "\n",
    "print(\"min # of items per user = {}, min # of users per item = {}.\".format(\n",
    "        min(num_items_per_user), min(num_users_per_item)))"
   ]
  },
  {
   "cell_type": "code",
   "execution_count": 6,
   "metadata": {},
   "outputs": [
    {
     "name": "stdout",
     "output_type": "stream",
     "text": [
      "(943,)\n",
      "(1682,)\n"
     ]
    }
   ],
   "source": [
    "print(num_items_per_user.shape)\n",
    "print(num_users_per_item.shape)"
   ]
  },
  {
   "cell_type": "markdown",
   "metadata": {},
   "source": [
    "### Split the data into a train and test set"
   ]
  },
  {
   "cell_type": "code",
   "execution_count": 7,
   "metadata": {
    "collapsed": true
   },
   "outputs": [],
   "source": [
    "def split_data(ratings, num_items_per_user, num_users_per_item, min_num_ratings, p_test=0.1):\n",
    "    \"\"\"split the ratings to training data and test data.\n",
    "    Args:\n",
    "        min_num_ratings: all users and items we keep must have at least min_num_ratings per user and per item. \n",
    "    \"\"\"\n",
    "    # set seed\n",
    "    np.random.seed(988)\n",
    "    \n",
    "    # select user and item based on the condition.\n",
    "    valid_users = np.where(num_items_per_user >= min_num_ratings)[0]\n",
    "    valid_items = np.where(num_users_per_item >= min_num_ratings)[0]\n",
    "    valid_ratings = ratings[valid_items, :][: , valid_users]  \n",
    "    \n",
    "    # initiate train and test data\n",
    "    test = sp.lil_matrix(valid_ratings.shape)\n",
    "    train = sp.lil_matrix(valid_ratings.shape)\n",
    "    \n",
    "    for i in range(valid_ratings.shape[1]):\n",
    "        \n",
    "        # indices of non zero ratings\n",
    "        ind_nz = valid_ratings[:,i].nonzero()[0]\n",
    "        \n",
    "        # shuffle the indices\n",
    "        np.random.shuffle(ind_nz)\n",
    "        \n",
    "        # define a threshold for the split\n",
    "        ind_thr = round(p_test*ind_nz.shape[0])\n",
    "\n",
    "        # training set\n",
    "        ind_train = ind_nz[ind_thr:]\n",
    "        train[ind_train, i] = valid_ratings[ind_train,i]\n",
    "\n",
    "        # test set\n",
    "        ind_test = ind_nz[:ind_thr]\n",
    "        test[ind_test, i] = valid_ratings[ind_test,i]\n",
    "\n",
    "    print(\"Total number of nonzero elements in origial data:{v}\".format(v=ratings.nnz))\n",
    "    print(\"Total number of nonzero elements in train data:{v}\".format(v=train.nnz))\n",
    "    print(\"Total number of nonzero elements in test data:{v}\".format(v=test.nnz))\n",
    "    \n",
    "    return valid_ratings, train, test"
   ]
  },
  {
   "cell_type": "code",
   "execution_count": 8,
   "metadata": {
    "scrolled": true
   },
   "outputs": [
    {
     "name": "stdout",
     "output_type": "stream",
     "text": [
      "Total number of nonzero elements in origial data:99999\n",
      "Total number of nonzero elements in train data:88162\n",
      "Total number of nonzero elements in test data:9790\n"
     ]
    },
    {
     "data": {
      "image/png": "[encoded data removed]",
      "text/plain": [
       "<matplotlib.figure.Figure at 0x8d904446d8>"
      ]
     },
     "metadata": {},
     "output_type": "display_data"
    }
   ],
   "source": [
    "from plots import plot_train_test_data\n",
    "\n",
    "valid_ratings, train, test = split_data(ratings, num_items_per_user, num_users_per_item, min_num_ratings=10, p_test=0.1)\n",
    "plot_train_test_data(train, test)"
   ]
  },
  {
   "cell_type": "code",
   "execution_count": 9,
   "metadata": {},
   "outputs": [
    {
     "name": "stdout",
     "output_type": "stream",
     "text": [
      "(array([0, 1, 1, 1], dtype=int64), array([1, 0, 1, 2], dtype=int64))\n",
      "(array([0, 0], dtype=int64), array([0, 2], dtype=int64))\n"
     ]
    }
   ],
   "source": [
    "a = np.array([[0,1,0],[4,5,4]])\n",
    "print(a.nonzero())\n",
    "print(np.where(a==0))"
   ]
  },
  {
   "cell_type": "markdown",
   "metadata": {},
   "source": [
    "## Implementing Baselines "
   ]
  },
  {
   "cell_type": "markdown",
   "metadata": {},
   "source": [
    "### Use the global mean to do the prediction"
   ]
  },
  {
   "cell_type": "code",
   "execution_count": 10,
   "metadata": {},
   "outputs": [
    {
     "name": "stdout",
     "output_type": "stream",
     "text": [
      "[[1 2 3]\n",
      " [0 0 0]\n",
      " [0 1 0]]\n",
      "[[   1    2    3]\n",
      " [1000    0    0]\n",
      " [1000    1    0]]\n",
      "(array([1, 1, 2], dtype=int64), array([1, 2, 2], dtype=int64))\n",
      "(array([0, 0, 0, 1, 2, 2], dtype=int64), array([0, 1, 2, 0, 0, 1], dtype=int64))\n",
      "334.5\n",
      "223.0\n"
     ]
    }
   ],
   "source": [
    "a = np.array([[1,2,3],[0,0,0],[0,1,0]])\n",
    "print(a)\n",
    "b = a\n",
    "u = 0\n",
    "b[np.where(b[:,u]==0)[0],u] = 1000\n",
    "print(b)\n",
    "\n",
    "print(np.where(a==0))\n",
    "print(a.nonzero())\n",
    "print(a[a.nonzero()].mean())\n",
    "print(a.mean())"
   ]
  },
  {
   "cell_type": "code",
   "execution_count": 11,
   "metadata": {
    "scrolled": true
   },
   "outputs": [
    {
     "name": "stdout",
     "output_type": "stream",
     "text": [
      "[[0 1 0]\n",
      " [4 5 4]\n",
      " [0 0 1]]\n",
      "[(0, 1), (1, 0), (1, 1), (1, 2), (2, 2)]\n",
      "[(0, array([1], dtype=int64)), (1, array([0, 1], dtype=int64)), (2, array([1, 2], dtype=int64))]\n"
     ]
    }
   ],
   "source": [
    "from helpers import build_index_groups\n",
    "\n",
    "a = np.array([[0,1,0],[4,5,4],[0,0,1]])\n",
    "nz_train, nz_row_colindices, nz_col_rowindices = build_index_groups(a)\n",
    "print(a)\n",
    "print(nz_train)\n",
    "print(nz_col_rowindices)"
   ]
  },
  {
   "cell_type": "code",
   "execution_count": 12,
   "metadata": {
    "scrolled": false
   },
   "outputs": [
    {
     "name": "stdout",
     "output_type": "stream",
     "text": [
      "Global mean prediction\n",
      "------------------------------------\n",
      "Training error :  54947.4088893\n",
      "Testing error :  6100.04069751\n"
     ]
    }
   ],
   "source": [
    "from helpers import calculate_mse\n",
    "\n",
    "def baseline_global_mean(train, test):\n",
    "    \"\"\"baseline method: use the global mean.\"\"\"\n",
    "\n",
    "    # train global mean\n",
    "    global_mean_train = train[train.nonzero()].mean()  \n",
    "    \n",
    "    # mse\n",
    "    loss_tr = calculate_mse(train[train.nonzero()].todense(), global_mean_train)\n",
    "    loss_te = calculate_mse(test[test.nonzero()].todense(), global_mean_train)\n",
    "\n",
    "    return loss_tr, loss_te\n",
    "\n",
    "loss_tr, loss_te = baseline_global_mean(train, test)\n",
    "\n",
    "print('Global mean prediction')\n",
    "print('------------------------------------')\n",
    "print('Training error : ', loss_tr)\n",
    "print('Testing error : ', loss_te)"
   ]
  },
  {
   "cell_type": "markdown",
   "metadata": {},
   "source": [
    "### Use the user means as the prediction"
   ]
  },
  {
   "cell_type": "code",
   "execution_count": 13,
   "metadata": {},
   "outputs": [
    {
     "name": "stdout",
     "output_type": "stream",
     "text": [
      "User mean prediction\n",
      "------------------------------------\n",
      "Training error :  46574.7761414\n",
      "Testing error :  5312.7155885\n"
     ]
    }
   ],
   "source": [
    "def baseline_user_mean(train, test):\n",
    "    \"\"\"baseline method: use the user means as the prediction.\"\"\"\n",
    "    \n",
    "    num_items, num_users = train.shape\n",
    "    \n",
    "    # copy the observed ratings \n",
    "    train_pred = train.copy()\n",
    "    test_pred = test.copy()\n",
    "\n",
    "    for u in range(num_users):\n",
    "        \n",
    "        # train user mean\n",
    "        user_train = train[:,u]\n",
    "        user_train_mean = user_train[user_train.nonzero()].mean() \n",
    "        \n",
    "        # predict user test\n",
    "        test_pred[:,u] = user_train_mean\n",
    "        \n",
    "        # predict user train\n",
    "        train_pred[:,u] = user_train_mean\n",
    "\n",
    "    # mse\n",
    "    loss_tr = calculate_mse(train[train.nonzero()].todense(), train_pred[train.nonzero()].todense())\n",
    "    loss_te = calculate_mse(test[test.nonzero()].todense(), test_pred[test.nonzero()].todense())\n",
    "\n",
    "    return loss_tr, loss_te\n",
    "    \n",
    "loss_tr, loss_te = baseline_user_mean(train, test)\n",
    "\n",
    "print('User mean prediction')\n",
    "print('------------------------------------')\n",
    "print('Training error : ', loss_tr)\n",
    "print('Testing error : ', loss_te)"
   ]
  },
  {
   "cell_type": "markdown",
   "metadata": {},
   "source": [
    "### Use the item means as the prediction"
   ]
  },
  {
   "cell_type": "code",
   "execution_count": 14,
   "metadata": {},
   "outputs": [
    {
     "name": "stdout",
     "output_type": "stream",
     "text": [
      "Item mean prediction\n",
      "------------------------------------\n",
      "Training error :  43947.9680905\n",
      "Testing error :  5067.67136943\n"
     ]
    }
   ],
   "source": [
    "def baseline_item_mean(train, test):\n",
    "    \"\"\"baseline method: use item means as the prediction.\"\"\"\n",
    "    \n",
    "    num_items, num_users = train.shape\n",
    "    \n",
    "    # copy the observed ratings \n",
    "    train_pred = train.copy()\n",
    "    test_pred = test.copy()\n",
    "\n",
    "    for i in range(num_items):\n",
    "        \n",
    "        # train item mean\n",
    "        item_train = train[i,:]\n",
    "        item_train_mean = item_train[item_train.nonzero()].mean() \n",
    "        \n",
    "        # predict item test\n",
    "        test_pred[i,:] = item_train_mean\n",
    "        \n",
    "        # predict user train\n",
    "        train_pred[i,:] = item_train_mean\n",
    "\n",
    "    # mse\n",
    "    loss_tr = calculate_mse( train[train.nonzero()].todense(), train_pred[train.nonzero()].todense() )\n",
    "    loss_te = calculate_mse( test[test.nonzero()].todense(), test_pred[test.nonzero()].todense() )\n",
    "\n",
    "    return loss_tr, loss_te\n",
    "    \n",
    "loss_tr, loss_te = baseline_item_mean(train, test)\n",
    "\n",
    "print('Item mean prediction')\n",
    "print('------------------------------------')\n",
    "print('Training error : ', loss_tr)\n",
    "print('Testing error : ', loss_te)"
   ]
  },
  {
   "cell_type": "markdown",
   "metadata": {},
   "source": [
    "### Learn the Matrix Factorization using SGD"
   ]
  },
  {
   "cell_type": "markdown",
   "metadata": {},
   "source": [
    "#### Initialize matrix factorization"
   ]
  },
  {
   "cell_type": "code",
   "execution_count": 15,
   "metadata": {},
   "outputs": [
    {
     "name": "stdout",
     "output_type": "stream",
     "text": [
      "[[ 1.  1.]\n",
      " [ 1.  1.]\n",
      " [ 1.  1.]\n",
      " [ 1.  1.]\n",
      " [ 1.  1.]]\n"
     ]
    }
   ],
   "source": [
    "a = np.ones((5,1))\n",
    "print(np.repeat(a,2,1))"
   ]
  },
  {
   "cell_type": "code",
   "execution_count": 16,
   "metadata": {
    "collapsed": true
   },
   "outputs": [],
   "source": [
    "def init_MF(train, num_features):\n",
    "    \"\"\"init the parameter for matrix factorization.\"\"\"\n",
    "\n",
    "    # user_features: shape = num_user, num_features\n",
    "    # item_features: shape = num_item, num_features\n",
    "\n",
    "    num_items, num_users = train.shape\n",
    "\n",
    "    # item mean\n",
    "    item_means = np.empty((num_items,1))\n",
    "    for i in range(num_items):\n",
    "        item_train = train[i,:]\n",
    "        item_means[i,0] = item_train[item_train.nonzero()].mean()\n",
    "    \n",
    "    # user mean\n",
    "    user_means = np.empty((num_users,1))\n",
    "    for u in range(num_users):\n",
    "        user_train = train[:,u]\n",
    "        user_means[u,0] = user_train[user_train.nonzero()].mean()\n",
    "        \n",
    "    # user features    \n",
    "    user_features = np.repeat(user_means/num_features, num_features, 1)\n",
    "    \n",
    "    # item features\n",
    "    item_features = np.repeat(item_means/num_features, num_features, 1)\n",
    "    \n",
    "    return item_features, user_features "
   ]
  },
  {
   "cell_type": "markdown",
   "metadata": {},
   "source": [
    "Compute the cost by the method of matrix factorization.\n"
   ]
  },
  {
   "cell_type": "code",
   "execution_count": 27,
   "metadata": {
    "collapsed": true
   },
   "outputs": [],
   "source": [
    "def compute_error(data, user_features, item_features, nz):\n",
    "    \"\"\"compute the loss (MSE) of the prediction of nonzero elements.\"\"\"\n",
    "\n",
    "    # convert to array\n",
    "    data = data.copy().toarray()\n",
    "\n",
    "    # predicted ratings\n",
    "    data_pred = item_features @ user_features.T\n",
    "\n",
    "    # mse\n",
    "    diff = np.array([data[ind] - data_pred[ind] for ind in nz])\n",
    "    mse = 1/len(nz)*np.sum(diff.dot(diff.T))\n",
    "    \n",
    "    return np.sqrt(mse)"
   ]
  },
  {
   "cell_type": "code",
   "execution_count": 28,
   "metadata": {
    "collapsed": true
   },
   "outputs": [],
   "source": [
    "def compute_error_SOLUTION(data, user_features, item_features, nz):\n",
    "    \"\"\"compute the loss (MSE) of the prediction of nonzero elements.\"\"\"\n",
    "    mse = 0\n",
    "    for row, col in nz:\n",
    "        item_info = item_features[:, row]\n",
    "        user_info = user_features[:, col]\n",
    "        mse += (data[row, col] - user_info.T.dot(item_info)) ** 2\n",
    "    return np.sqrt(1.0 * mse / len(nz))"
   ]
  },
  {
   "cell_type": "code",
   "execution_count": 29,
   "metadata": {
    "scrolled": true
   },
   "outputs": [
    {
     "name": "stdout",
     "output_type": "stream",
     "text": [
      "training error when init with item/user means:  1.0\n",
      "training error when init with random:  2.0\n"
     ]
    }
   ],
   "source": [
    "max_rating = 5\n",
    "\n",
    "# non zero \n",
    "nz_row, nz_col = train.nonzero()\n",
    "nz_train = list(zip(nz_row, nz_col))\n",
    "\n",
    "# init using rating means\n",
    "num_features = 4\n",
    "W, Z = init_MF(train, num_features)\n",
    "\n",
    "# random init \n",
    "W_rand = (max_rating/num_features)*np.random.rand(train.shape[0], num_features)\n",
    "Z_rand = (max_rating/num_features)*np.random.rand(train.shape[1], num_features)\n",
    "\n",
    "# compare init with mean and random init\n",
    "e_mean = compute_error(train, Z, W, nz_train)\n",
    "e_rand = compute_error(train, Z_rand, W_rand ,nz_train)\n",
    "\n",
    "print('training error when init with item/user means: ', round(e_mean))\n",
    "print('training error when init with random: ', round(e_rand))"
   ]
  },
  {
   "cell_type": "code",
   "execution_count": 30,
   "metadata": {},
   "outputs": [
    {
     "name": "stdout",
     "output_type": "stream",
     "text": [
      "training error when init with item/user means:  1.0\n",
      "training error when init with random:  2.0\n"
     ]
    }
   ],
   "source": [
    "# compare init with mean and random init\n",
    "e_mean = compute_error_SOLUTION(train, Z.T, W.T, nz_train)\n",
    "e_rand = compute_error_SOLUTION(train, Z_rand.T, W_rand.T ,nz_train)\n",
    "\n",
    "print('training error when init with item/user means: ', round(e_mean))\n",
    "print('training error when init with random: ', round(e_rand))"
   ]
  },
  {
   "cell_type": "code",
   "execution_count": null,
   "metadata": {},
   "outputs": [],
   "source": [
    "print(Z.shape)\n",
    "print(W.shape)"
   ]
  },
  {
   "cell_type": "code",
   "execution_count": null,
   "metadata": {},
   "outputs": [
    {
     "name": "stdout",
     "output_type": "stream",
     "text": [
      "learn the matrix factorization using SGD...\n",
      "iter: 0, RMSE on training set: 0.9872715644209179.\n",
      "iter: 1, RMSE on training set: 0.9434630457128389.\n",
      "iter: 2, RMSE on training set: 0.9307775671508333.\n",
      "iter: 3, RMSE on training set: 0.9255709785848444.\n",
      "iter: 4, RMSE on training set: 0.9227022873471015.\n",
      "iter: 5, RMSE on training set: 0.9207816848601151.\n",
      "iter: 6, RMSE on training set: 0.9197355238490305.\n",
      "iter: 7, RMSE on training set: 0.9191632977804058.\n",
      "iter: 8, RMSE on training set: 0.9185028097222825.\n",
      "iter: 9, RMSE on training set: 0.9181706069463178.\n",
      "iter: 10, RMSE on training set: 0.9179519846183768.\n",
      "iter: 11, RMSE on training set: 0.917775521411073.\n",
      "iter: 12, RMSE on training set: 0.9176596279686391.\n"
     ]
    }
   ],
   "source": [
    "def matrix_factorization_SGD(train, test):\n",
    "    \"\"\"matrix factorization by SGD.\"\"\"\n",
    "    \n",
    "    # define parameters\n",
    "    gamma = 0.01\n",
    "    num_features = 10 # K in the lecture notes\n",
    "    lambda_user = 0\n",
    "    lambda_item = 0\n",
    "    num_epochs = 20 # number of full passes through the train set\n",
    "    errors = [0]\n",
    "    \n",
    "    # set seed\n",
    "    np.random.seed(1)\n",
    "\n",
    "    # init matrix\n",
    "    W, Z = init_MF(train, num_features)\n",
    "    \n",
    "    # random init \n",
    "    #W = (max_rating/num_features)*np.random.rand(train.shape[0], num_features)\n",
    "    #Z = (max_rating/num_features)*np.random.rand(train.shape[1], num_features)\n",
    "\n",
    "\n",
    "    # find the non-zero ratings indices \n",
    "    nz_row, nz_col = train.nonzero()\n",
    "    nz_train = list(zip(nz_row, nz_col))\n",
    "    nz_row, nz_col = test.nonzero()\n",
    "    nz_test = list(zip(nz_row, nz_col))\n",
    "\n",
    "    print(\"learn the matrix factorization using SGD...\")\n",
    "\n",
    "    for it in range(num_epochs):\n",
    "\n",
    "        # shuffle the training rating indices\n",
    "        np.random.shuffle(nz_train)\n",
    "        \n",
    "        # decrease step size\n",
    "        gamma /= 1.2\n",
    "        \n",
    "        for d, n in nz_train:\n",
    "   \n",
    "            # prediction error\n",
    "            e = train[d,n] - W[d,:]@Z[n,:].T \n",
    "\n",
    "            # stochastic gradients\n",
    "            sg_w = -e*Z[n,:] + lambda_item*W[d,:] # regularized\n",
    "            sg_z = -e*W[d,:] + lambda_user*Z[n,:] # regularized\n",
    "\n",
    "            # udpate W and Z\n",
    "            W[d,:] = W[d,:] - gamma*sg_w\n",
    "            Z[n,:] = Z[n,:] - gamma*sg_z\n",
    "\n",
    "        # rmse\n",
    "        rmse = compute_error(train, Z, W, nz_train)\n",
    "        errors.append(rmse)\n",
    "\n",
    "        print(\"iter: {}, RMSE on training set: {}.\".format(it, rmse))\n",
    "        \n",
    "    rmse = compute_error(test, Z, W, nz_test)\n",
    "    \n",
    "    plt.figure()\n",
    "    plt.plot(errors[1:])\n",
    "    plt.xlabel('iter')\n",
    "    plt.ylabel('training error')\n",
    "    plt.show()\n",
    "    \n",
    "    print(\"Lambda (user/item): {}/{}.\".format(lambda_user, lambda_item))\n",
    "    print(\"RMSE on train data: {}.\".format(errors[-1]))\n",
    "    print(\"RMSE on test data: {}.\".format(rmse))\n",
    "\n",
    "matrix_factorization_SGD(train, test)   "
   ]
  },
  {
   "cell_type": "markdown",
   "metadata": {},
   "source": [
    "### Learn the Matrix Factorization using Alternating Least Squares"
   ]
  },
  {
   "cell_type": "code",
   "execution_count": null,
   "metadata": {
    "collapsed": true
   },
   "outputs": [],
   "source": [
    "def update_user_feature(train, W, lambda_user):\n",
    "    \"\"\"update user feature matrix.\"\"\"\n",
    "    \n",
    "    T = train>0.5\n",
    "    T[T == True] = 1\n",
    "    T[T == False] = 0\n",
    "\n",
    "    Z = np.zeros((train.shape[0], W.shape[1]))\n",
    "\n",
    "    for u, Tu in enumerate(T):\n",
    "        Z[u] = np.linalg.solve(np.dot(W.T, np.dot(np.diag(Tu), W)) + lambda_user * np.eye(W.shape[1]), np.dot(W.T, np.dot(np.diag(Tu), train[u].T))).T\n",
    "        \n",
    "    return Z\n",
    "    \n",
    "\n",
    "def update_item_feature(train, Z, lambda_item):\n",
    "    \"\"\"update item feature matrix.\"\"\"\n",
    "    \n",
    "    T = train>0.5\n",
    "    T[T == True] = 1\n",
    "    T[T == False] = 0\n",
    "\n",
    "    W = np.zeros((train.shape[1], Z.shape[1]))\n",
    "\n",
    "    for i, Ti in enumerate(T.T):\n",
    "        W[:,i] = np.linalg.solve(np.dot(Z, np.dot(np.diag(Ti), Z.T)) + lambda_item * np.eye(Z.shape[1]), np.dot(Z, np.dot(np.diag(Ti), train[:, i])))\n",
    "        \n",
    "    return W\n",
    " "
   ]
  },
  {
   "cell_type": "code",
   "execution_count": null,
   "metadata": {},
   "outputs": [],
   "source": [
    "from helpers import build_index_groups\n",
    "\n",
    "\n",
    "def ALS(train, test):\n",
    "    \"\"\"Alternating Least Squares (ALS) algorithm.\"\"\"\n",
    "    \n",
    "    # define parameters\n",
    "    num_features = 20   # K in the lecture notes\n",
    "    lambda_user = 0.1\n",
    "    lambda_item = 0.7\n",
    "    stop_criterion = 1e-4\n",
    "    change = 1\n",
    "    error_list = [0, 0]\n",
    "    \n",
    "    # set seed\n",
    "    np.random.seed(988)\n",
    "\n",
    "    # init ALS\n",
    "    user_features, item_features = init_MF(train, num_features)\n",
    "    \n",
    "    # non zero in train\n",
    "    nz_row, nz_col = train.nonzero()\n",
    "    nz_train = list(zip(nz_row, nz_col))\n",
    "\n",
    "    # run ALS\n",
    "    print(\"\\nstart the ALS algorithm...\")\n",
    "    while change > stop_criterion:\n",
    "        \n",
    "        # update user feature & item feature\n",
    "        user_features = update_user_feature(train, W, lambda_user)\n",
    "        item_features = update_item_feature(train, Z, lambda_item)\n",
    "\n",
    "        # error\n",
    "        error = compute_error(train, user_features, item_features, nz_train)\n",
    "        error_list.append(error)\n",
    "\n",
    "        print(\"RMSE on training set: {}.\".format(error))\n",
    "        change = np.fabs(error_list[-1] - error_list[-2])\n",
    "\n",
    "    # evaluate the test error\n",
    "    nnz_row, nnz_col = test.nonzero()\n",
    "    nnz_test = list(zip(nnz_row, nnz_col))\n",
    "    rmse = compute_error(test, user_features, item_features, nnz_test)\n",
    "    print(\"test RMSE after running ALS: {v}.\".format(v=rmse))\n",
    "\n",
    "ALS(train, test)"
   ]
  },
  {
   "cell_type": "code",
   "execution_count": null,
   "metadata": {
    "collapsed": true
   },
   "outputs": [],
   "source": [
    "a = np.array([1,2,3])\n",
    "b = a\n",
    "b[0] = 1000\n",
    "print(a)\n",
    "print(b)"
   ]
  },
  {
   "cell_type": "code",
   "execution_count": null,
   "metadata": {
    "collapsed": true
   },
   "outputs": [],
   "source": []
  },
  {
   "cell_type": "code",
   "execution_count": null,
   "metadata": {
    "collapsed": true
   },
   "outputs": [],
   "source": []
  }
 ],
 "metadata": {
  "kernelspec": {
   "display_name": "Python 3",
   "language": "python",
   "name": "python3"
  },
  "language_info": {
   "codemirror_mode": {
    "name": "ipython",
    "version": 3
   },
   "file_extension": ".py",
   "mimetype": "text/x-python",
   "name": "python",
   "nbconvert_exporter": "python",
   "pygments_lexer": "ipython3",
   "version": "3.6.1"
  }
 },
 "nbformat": 4,
 "nbformat_minor": 1
}
